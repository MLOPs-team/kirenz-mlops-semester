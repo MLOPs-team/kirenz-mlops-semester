{
 "cells": [
  {
   "cell_type": "markdown",
   "metadata": {},
   "source": [
    "# Jupyter-Book good to know\n",
    "\n",
    "\n",
    "## General Information \n",
    "\n",
    "All files are in the folder docs."
   ]
  },
  {
   "cell_type": "markdown",
   "metadata": {},
   "source": [
    "## Sections in a file"
   ]
  },
  {
   "cell_type": "code",
   "execution_count": null,
   "metadata": {},
   "outputs": [],
   "source": [
    "# Chapter 1 title\n",
    "\n",
    "## Chapter 1 second header\n",
    "\n",
    "### Chapter 1 third header\n",
    "\n",
    "#### Chapter 1 section title\n",
    "\n",
    "##### Chapter 1 section second header"
   ]
  },
  {
   "cell_type": "markdown",
   "metadata": {},
   "source": [
    "### Table of Contents\n",
    "\n",
    "The title '# Chapter 1 Title' of the file is listed in the table of contents (see on the left)\n",
    "\n",
    "\n",
    "The second, third.... header ist listed in the table of comtents on the top right hand corner"
   ]
  },
  {
   "cell_type": "markdown",
   "metadata": {},
   "source": [
    "### How to build the Jupyter-Book"
   ]
  },
  {
   "cell_type": "code",
   "execution_count": null,
   "metadata": {},
   "outputs": [],
   "source": [
    "jupyter-book build jupyter-book/"
   ]
  }
 ],
 "metadata": {
  "interpreter": {
   "hash": "4df74ba5e0d69459924f467b14f6fc64d1b1e193f20aaeb843df8160b10d7ed6"
  },
  "kernelspec": {
   "display_name": "Python 3.9.7 64-bit (windows store)",
   "name": "python3"
  },
  "language_info": {
   "name": "python",
   "version": ""
  },
  "widgets": {
   "application/vnd.jupyter.widget-state+json": {
    "state": {},
    "version_major": 2,
    "version_minor": 0
   }
  }
 },
 "nbformat": 4,
 "nbformat_minor": 4
}
