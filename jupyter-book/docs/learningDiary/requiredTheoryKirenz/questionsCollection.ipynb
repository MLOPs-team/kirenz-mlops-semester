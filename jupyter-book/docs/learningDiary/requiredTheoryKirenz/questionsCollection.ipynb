{
 "cells": [
  {
   "cell_type": "markdown",
   "metadata": {},
   "source": [
    "# Notes: Questions for lecture on 17.11\n",
    "\n",
    "## Data-centric AI\n",
    "- 12% of 500 Examples are noisy. How can we identify these 12%? Are there any frameworks or tools etc.?\n",
    "    - Tesnorflow extended - preprocessing ermöglicht genaut das. Hierbei kann man außreiser anzeigen. Bibliothek mit dieser man außreiser anzeigen kann \n",
    "    - Pandas oder Ceborn wäre auch möglich - ganz klassisch mit boxplots oder so arbeiten\n",
    "    - wenn man systematisch rangehen möchte: Tensorflow hat hierfür eine bib die example validator statistics gen kann man hierfür auch verwenden\n",
    "    - wie viele außreiser gibt es standardwerte und so...typische daten exploration \n",
    "\n",
    "## Common MLOps realted challenges\n",
    "- Kedro - Wo fängt Kedro an und wo hört es auf? Verstehen den Zusammenhand noch nicht ganz \n",
    "\n",
    "    - \n",
    "\n",
    "## Frameworks\n",
    "- Warum veruscht man MLOps so stark von DEVops abzugrenzen, wenn man sich doch an den Grundsätzen daran orintiert? \n",
    "\n",
    "in devops projekten hat man nicht die problematik mit daten. Datensichtugn, Datensammlung, Datenveredelung spielt bei devops kein Thema. Aber gerade das ist der Schwerpunkt von MLOPs. Weil Daten so wichtig sind ist das der zentrale Unterschied bei DEVops. Datensammlung, Datensicherung usw. spielt hier die zentrale Rolle und nimmt auch einen großen Raum im Prozess ein. "
   ]
  }
 ],
 "metadata": {
  "interpreter": {
   "hash": "4df74ba5e0d69459924f467b14f6fc64d1b1e193f20aaeb843df8160b10d7ed6"
  },
  "kernelspec": {
   "display_name": "Python 3.9.7 64-bit (windows store)",
   "name": "python3"
  },
  "language_info": {
   "name": "python",
   "version": ""
  },
  "widgets": {
   "application/vnd.jupyter.widget-state+json": {
    "state": {},
    "version_major": 2,
    "version_minor": 0
   }
  }
 },
 "nbformat": 4,
 "nbformat_minor": 4
}
