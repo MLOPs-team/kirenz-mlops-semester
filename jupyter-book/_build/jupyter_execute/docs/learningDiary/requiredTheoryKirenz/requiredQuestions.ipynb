{
 "cells": [
  {
   "cell_type": "markdown",
   "metadata": {},
   "source": [
    "# Notes: Required questions - theory Kirenz\n"
   ]
  },
  {
   "cell_type": "markdown",
   "metadata": {},
   "source": [
    "## Data-centric AI\n",
    "\n",
    "Notes to the video from AI pioneer Andrew Ng:\"A Chat with Andrew on MLOps: From Model-centric to Data-centric AI\".\n",
    "\n",
    "<iframe width=\"560\" height=\"315\" src=\"https://youtu.be/06-AZXmwHjo\" frameborder=\"0\" allowfullscreen></iframe>  \n",
    "\n",
    "\n",
    "- **AI-System** = Code (model/algorithm) + Data \n",
    "\n",
    "- Data is food for AI  \n",
    "\n",
    "![image](../../../assets/img/dataIsFood.png)     \n",
    "\n",
    "- It's very important especially for small data sets that the labels are consistencly  \n",
    "\n",
    "![image](../../../assets/img/smallDataAndLabelConsistency.png)  \n",
    "\n",
    "    - **Noisy Dataset**: data that contains a large amount of additional meaningless information. E.g. corrupted data...all data that cannot be understood and interpreted  by a user system.\n",
    "    \n",
    "    - **Noisy labels**: labels that were set incorrectly or inconsitently  \n",
    "\n",
    "\n",
    "- **Theory: Clean vs. noisy Data**  \n",
    "    You have 500 Examples and 12% of the examples are noisy (incorrectly or inconsitently labeld)\n",
    "\n",
    "    The following are about equally effective: \n",
    "        - Clean up the noise => 60 examples\n",
    "        - Collect annother 500 new examples (double the training set)\n",
    "    \n",
    "    With a data centric view, there is significant of room for improvment in problems <10.000 examples\n",
    "\n",
    "```{admonition} Required questions\n",
    ":class: tip\n",
    "- **Describe the lifecycle of an ML project**\n",
    "\n",
    "____________________________\n",
    "\n",
    "- **What is the difference between a model-centric vs data-centric view**  \n",
    "  \n",
    "    **Model-centric view**  \n",
    "    Collect what data you can, and develop a model good enough to deal with the noise in the data.  \n",
    "\n",
    "    Hold the data fixed and iteratively improve the code/model.  \n",
    "      \n",
    "    **Data-centric view**  \n",
    "    The consistency of the data is paramount. Use tools to improve the data quality; this will allow multiple models to do well.  \n",
    "\n",
    "    Hold the code fixed and iteratively improve the data..  \n",
    "____________________________\n",
    "\n",
    "- **Describe MLOps’ most important task**  \n",
    "  \n",
    "    Ensure consistently high-quality data in all phases oft he ML project lifecycle        \n",
    "    What is good Data?\n",
    "    - Defined consistently (definition of labels y is unambiguous)\n",
    "    - Cover of important cases (good coverage of inputs x)\n",
    "    - Enough data – for example enough data of speech with car noise in background\n",
    "    - Has timely feedback from production data (distribution covers data drift and concept drift)\n",
    "    - Sized appropriately\n",
    "\n",
    "```"
   ]
  },
  {
   "cell_type": "markdown",
   "metadata": {},
   "source": []
  }
 ],
 "metadata": {
  "interpreter": {
   "hash": "4df74ba5e0d69459924f467b14f6fc64d1b1e193f20aaeb843df8160b10d7ed6"
  },
  "kernelspec": {
   "display_name": "Python 3.9.7 64-bit (windows store)",
   "name": "python3"
  },
  "language_info": {
   "codemirror_mode": {
    "name": "ipython",
    "version": 3
   },
   "file_extension": ".py",
   "mimetype": "text/x-python",
   "name": "python",
   "nbconvert_exporter": "python",
   "pygments_lexer": "ipython3",
   "version": "3.9.2"
  },
  "widgets": {
   "application/vnd.jupyter.widget-state+json": {
    "state": {},
    "version_major": 2,
    "version_minor": 0
   }
  }
 },
 "nbformat": 4,
 "nbformat_minor": 4
}