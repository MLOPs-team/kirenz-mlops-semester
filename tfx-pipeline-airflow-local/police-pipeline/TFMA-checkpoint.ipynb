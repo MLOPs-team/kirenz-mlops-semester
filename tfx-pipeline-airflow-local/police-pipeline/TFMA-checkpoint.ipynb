{
 "cells": [
  {
   "cell_type": "code",
   "execution_count": 7,
   "metadata": {},
   "outputs": [
    {
     "name": "stdout",
     "output_type": "stream",
     "text": [
      "Requirement already satisfied: tensorflow-model-analysis in /home/ec2-user/anaconda3/envs/tfx/lib/python3.6/site-packages (0.34.1)\n",
      "Requirement already satisfied: six<2,>=1.12 in /home/ec2-user/anaconda3/envs/tfx/lib/python3.6/site-packages (from tensorflow-model-analysis) (1.15.0)\n",
      "Requirement already satisfied: apache-beam[gcp]<3,>=2.32 in /home/ec2-user/anaconda3/envs/tfx/lib/python3.6/site-packages (from tensorflow-model-analysis) (2.35.0)\n",
      "Requirement already satisfied: tensorflow-metadata<1.3.0,>=1.2.0 in /home/ec2-user/anaconda3/envs/tfx/lib/python3.6/site-packages (from tensorflow-model-analysis) (1.2.0)\n",
      "Requirement already satisfied: pandas<2,>=1.0 in /home/ec2-user/anaconda3/envs/tfx/lib/python3.6/site-packages (from tensorflow-model-analysis) (1.1.5)\n",
      "Requirement already satisfied: tensorflow!=2.0.*,!=2.1.*,!=2.2.*,!=2.3.*,!=2.4.*,!=2.5.*,<3,>=1.15.2 in /home/ec2-user/anaconda3/envs/tfx/lib/python3.6/site-packages (from tensorflow-model-analysis) (2.6.2)\n",
      "Requirement already satisfied: numpy<1.20,>=1.16 in /home/ec2-user/anaconda3/envs/tfx/lib/python3.6/site-packages (from tensorflow-model-analysis) (1.19.5)\n",
      "Requirement already satisfied: ipywidgets<8,>=7 in /home/ec2-user/anaconda3/envs/tfx/lib/python3.6/site-packages (from tensorflow-model-analysis) (7.6.5)\n",
      "Requirement already satisfied: tfx-bsl<1.4.0,>=1.3.0 in /home/ec2-user/anaconda3/envs/tfx/lib/python3.6/site-packages (from tensorflow-model-analysis) (1.3.0)\n",
      "Requirement already satisfied: absl-py<0.13,>=0.9 in /home/ec2-user/anaconda3/envs/tfx/lib/python3.6/site-packages (from tensorflow-model-analysis) (0.12.0)\n",
      "Requirement already satisfied: ipython<8,>=7 in /home/ec2-user/anaconda3/envs/tfx/lib/python3.6/site-packages (from tensorflow-model-analysis) (7.16.2)\n",
      "Requirement already satisfied: pyarrow<3,>=1 in /home/ec2-user/anaconda3/envs/tfx/lib/python3.6/site-packages (from tensorflow-model-analysis) (2.0.0)\n",
      "Requirement already satisfied: scipy<2,>=1.4.1 in /home/ec2-user/anaconda3/envs/tfx/lib/python3.6/site-packages (from tensorflow-model-analysis) (1.5.4)\n",
      "Requirement already satisfied: protobuf<4,>=3.13 in /home/ec2-user/anaconda3/envs/tfx/lib/python3.6/site-packages (from tensorflow-model-analysis) (3.19.2)\n",
      "Requirement already satisfied: crcmod<2.0,>=1.7 in /home/ec2-user/anaconda3/envs/tfx/lib/python3.6/site-packages (from apache-beam[gcp]<3,>=2.32->tensorflow-model-analysis) (1.7)\n",
      "Requirement already satisfied: oauth2client<5,>=2.0.1 in /home/ec2-user/anaconda3/envs/tfx/lib/python3.6/site-packages (from apache-beam[gcp]<3,>=2.32->tensorflow-model-analysis) (4.1.3)\n",
      "Requirement already satisfied: pymongo<4.0.0,>=3.8.0 in /home/ec2-user/anaconda3/envs/tfx/lib/python3.6/site-packages (from apache-beam[gcp]<3,>=2.32->tensorflow-model-analysis) (3.12.3)\n",
      "Requirement already satisfied: pytz>=2018.3 in /home/ec2-user/anaconda3/envs/tfx/lib/python3.6/site-packages (from apache-beam[gcp]<3,>=2.32->tensorflow-model-analysis) (2021.3)\n",
      "Requirement already satisfied: fastavro<2,>=0.21.4 in /home/ec2-user/anaconda3/envs/tfx/lib/python3.6/site-packages (from apache-beam[gcp]<3,>=2.32->tensorflow-model-analysis) (1.4.7)\n",
      "Requirement already satisfied: orjson<4.0 in /home/ec2-user/anaconda3/envs/tfx/lib/python3.6/site-packages (from apache-beam[gcp]<3,>=2.32->tensorflow-model-analysis) (3.6.1)\n",
      "Requirement already satisfied: pydot<2,>=1.2.0 in /home/ec2-user/anaconda3/envs/tfx/lib/python3.6/site-packages (from apache-beam[gcp]<3,>=2.32->tensorflow-model-analysis) (1.4.2)\n",
      "Requirement already satisfied: proto-plus<2,>=1.7.1 in /home/ec2-user/anaconda3/envs/tfx/lib/python3.6/site-packages (from apache-beam[gcp]<3,>=2.32->tensorflow-model-analysis) (1.19.8)\n",
      "Requirement already satisfied: hdfs<3.0.0,>=2.1.0 in /home/ec2-user/anaconda3/envs/tfx/lib/python3.6/site-packages (from apache-beam[gcp]<3,>=2.32->tensorflow-model-analysis) (2.6.0)\n",
      "Requirement already satisfied: dataclasses in /home/ec2-user/anaconda3/envs/tfx/lib/python3.6/site-packages (from apache-beam[gcp]<3,>=2.32->tensorflow-model-analysis) (0.8)\n",
      "Requirement already satisfied: python-dateutil<3,>=2.8.0 in /home/ec2-user/anaconda3/envs/tfx/lib/python3.6/site-packages (from apache-beam[gcp]<3,>=2.32->tensorflow-model-analysis) (2.8.2)\n",
      "Requirement already satisfied: dill<0.3.2,>=0.3.1.1 in /home/ec2-user/anaconda3/envs/tfx/lib/python3.6/site-packages (from apache-beam[gcp]<3,>=2.32->tensorflow-model-analysis) (0.3.1.1)\n",
      "Requirement already satisfied: requests<3.0.0,>=2.24.0 in /home/ec2-user/anaconda3/envs/tfx/lib/python3.6/site-packages (from apache-beam[gcp]<3,>=2.32->tensorflow-model-analysis) (2.27.1)\n",
      "Requirement already satisfied: typing-extensions<4,>=3.7.0 in /home/ec2-user/anaconda3/envs/tfx/lib/python3.6/site-packages (from apache-beam[gcp]<3,>=2.32->tensorflow-model-analysis) (3.7.4.3)\n",
      "Requirement already satisfied: httplib2<0.20.0,>=0.8 in /home/ec2-user/anaconda3/envs/tfx/lib/python3.6/site-packages (from apache-beam[gcp]<3,>=2.32->tensorflow-model-analysis) (0.19.1)\n",
      "Requirement already satisfied: grpcio<2,>=1.29.0 in /home/ec2-user/anaconda3/envs/tfx/lib/python3.6/site-packages (from apache-beam[gcp]<3,>=2.32->tensorflow-model-analysis) (1.43.0)\n",
      "Requirement already satisfied: google-cloud-bigtable<2,>=0.31.1 in /home/ec2-user/anaconda3/envs/tfx/lib/python3.6/site-packages (from apache-beam[gcp]<3,>=2.32->tensorflow-model-analysis) (1.7.0)\n",
      "Requirement already satisfied: cachetools<5,>=3.1.0 in /home/ec2-user/anaconda3/envs/tfx/lib/python3.6/site-packages (from apache-beam[gcp]<3,>=2.32->tensorflow-model-analysis) (4.2.4)\n",
      "Requirement already satisfied: google-cloud-pubsub<2,>=0.39.0 in /home/ec2-user/anaconda3/envs/tfx/lib/python3.6/site-packages (from apache-beam[gcp]<3,>=2.32->tensorflow-model-analysis) (1.7.0)\n",
      "Requirement already satisfied: grpcio-gcp<1,>=0.2.2 in /home/ec2-user/anaconda3/envs/tfx/lib/python3.6/site-packages (from apache-beam[gcp]<3,>=2.32->tensorflow-model-analysis) (0.2.2)\n",
      "Requirement already satisfied: google-cloud-datastore<2,>=1.8.0 in /home/ec2-user/anaconda3/envs/tfx/lib/python3.6/site-packages (from apache-beam[gcp]<3,>=2.32->tensorflow-model-analysis) (1.15.3)\n",
      "Requirement already satisfied: google-cloud-bigquery-storage>=2.6.3 in /home/ec2-user/anaconda3/envs/tfx/lib/python3.6/site-packages (from apache-beam[gcp]<3,>=2.32->tensorflow-model-analysis) (2.10.1)\n",
      "Requirement already satisfied: google-cloud-bigquery<3,>=1.6.0 in /home/ec2-user/anaconda3/envs/tfx/lib/python3.6/site-packages (from apache-beam[gcp]<3,>=2.32->tensorflow-model-analysis) (2.31.0)\n",
      "Requirement already satisfied: google-apitools<0.5.32,>=0.5.31 in /home/ec2-user/anaconda3/envs/tfx/lib/python3.6/site-packages (from apache-beam[gcp]<3,>=2.32->tensorflow-model-analysis) (0.5.31)\n",
      "Requirement already satisfied: google-cloud-recommendations-ai<=0.2.0,>=0.1.0 in /home/ec2-user/anaconda3/envs/tfx/lib/python3.6/site-packages (from apache-beam[gcp]<3,>=2.32->tensorflow-model-analysis) (0.2.0)\n",
      "Requirement already satisfied: google-cloud-language<2,>=1.3.0 in /home/ec2-user/anaconda3/envs/tfx/lib/python3.6/site-packages (from apache-beam[gcp]<3,>=2.32->tensorflow-model-analysis) (1.3.0)\n",
      "Requirement already satisfied: google-cloud-videointelligence<2,>=1.8.0 in /home/ec2-user/anaconda3/envs/tfx/lib/python3.6/site-packages (from apache-beam[gcp]<3,>=2.32->tensorflow-model-analysis) (1.16.1)\n",
      "Requirement already satisfied: google-auth<3,>=1.18.0 in /home/ec2-user/anaconda3/envs/tfx/lib/python3.6/site-packages (from apache-beam[gcp]<3,>=2.32->tensorflow-model-analysis) (1.35.0)\n",
      "Requirement already satisfied: google-cloud-core<2,>=0.28.1 in /home/ec2-user/anaconda3/envs/tfx/lib/python3.6/site-packages (from apache-beam[gcp]<3,>=2.32->tensorflow-model-analysis) (1.7.2)\n",
      "Requirement already satisfied: google-cloud-dlp<4,>=3.0.0 in /home/ec2-user/anaconda3/envs/tfx/lib/python3.6/site-packages (from apache-beam[gcp]<3,>=2.32->tensorflow-model-analysis) (3.4.0)\n",
      "Requirement already satisfied: google-cloud-spanner<2,>=1.13.0 in /home/ec2-user/anaconda3/envs/tfx/lib/python3.6/site-packages (from apache-beam[gcp]<3,>=2.32->tensorflow-model-analysis) (1.19.1)\n",
      "Requirement already satisfied: google-cloud-vision<2,>=0.38.0 in /home/ec2-user/anaconda3/envs/tfx/lib/python3.6/site-packages (from apache-beam[gcp]<3,>=2.32->tensorflow-model-analysis) (1.0.0)\n",
      "Requirement already satisfied: fasteners>=0.14 in /home/ec2-user/anaconda3/envs/tfx/lib/python3.6/site-packages (from google-apitools<0.5.32,>=0.5.31->apache-beam[gcp]<3,>=2.32->tensorflow-model-analysis) (0.16.3)\n",
      "Requirement already satisfied: rsa<5,>=3.1.4 in /home/ec2-user/anaconda3/envs/tfx/lib/python3.6/site-packages (from google-auth<3,>=1.18.0->apache-beam[gcp]<3,>=2.32->tensorflow-model-analysis) (4.8)\n",
      "Requirement already satisfied: pyasn1-modules>=0.2.1 in /home/ec2-user/anaconda3/envs/tfx/lib/python3.6/site-packages (from google-auth<3,>=1.18.0->apache-beam[gcp]<3,>=2.32->tensorflow-model-analysis) (0.2.8)\n",
      "Requirement already satisfied: setuptools>=40.3.0 in /home/ec2-user/anaconda3/envs/tfx/lib/python3.6/site-packages (from google-auth<3,>=1.18.0->apache-beam[gcp]<3,>=2.32->tensorflow-model-analysis) (58.0.4)\n",
      "Requirement already satisfied: packaging>=14.3 in /home/ec2-user/anaconda3/envs/tfx/lib/python3.6/site-packages (from google-cloud-bigquery<3,>=1.6.0->apache-beam[gcp]<3,>=2.32->tensorflow-model-analysis) (20.9)\n",
      "Requirement already satisfied: google-api-core[grpc]<3.0.0dev,>=1.29.0 in /home/ec2-user/anaconda3/envs/tfx/lib/python3.6/site-packages (from google-cloud-bigquery<3,>=1.6.0->apache-beam[gcp]<3,>=2.32->tensorflow-model-analysis) (1.31.5)\n",
      "Requirement already satisfied: google-resumable-media<3.0dev,>=0.6.0 in /home/ec2-user/anaconda3/envs/tfx/lib/python3.6/site-packages (from google-cloud-bigquery<3,>=1.6.0->apache-beam[gcp]<3,>=2.32->tensorflow-model-analysis) (2.1.0)\n",
      "Requirement already satisfied: googleapis-common-protos<2.0dev,>=1.6.0 in /home/ec2-user/anaconda3/envs/tfx/lib/python3.6/site-packages (from google-api-core[grpc]<3.0.0dev,>=1.29.0->google-cloud-bigquery<3,>=1.6.0->apache-beam[gcp]<3,>=2.32->tensorflow-model-analysis) (1.54.0)\n",
      "Requirement already satisfied: libcst>=0.2.5 in /home/ec2-user/anaconda3/envs/tfx/lib/python3.6/site-packages (from google-cloud-bigquery-storage>=2.6.3->apache-beam[gcp]<3,>=2.32->tensorflow-model-analysis) (0.3.23)\n",
      "Requirement already satisfied: grpc-google-iam-v1<0.13dev,>=0.12.3 in /home/ec2-user/anaconda3/envs/tfx/lib/python3.6/site-packages (from google-cloud-bigtable<2,>=0.31.1->apache-beam[gcp]<3,>=2.32->tensorflow-model-analysis) (0.12.3)\n",
      "Requirement already satisfied: google-crc32c<2.0dev,>=1.0 in /home/ec2-user/anaconda3/envs/tfx/lib/python3.6/site-packages (from google-resumable-media<3.0dev,>=0.6.0->google-cloud-bigquery<3,>=1.6.0->apache-beam[gcp]<3,>=2.32->tensorflow-model-analysis) (1.3.0)\n",
      "Requirement already satisfied: docopt in /home/ec2-user/anaconda3/envs/tfx/lib/python3.6/site-packages (from hdfs<3.0.0,>=2.1.0->apache-beam[gcp]<3,>=2.32->tensorflow-model-analysis) (0.6.2)\n",
      "Requirement already satisfied: pyparsing<3,>=2.4.2 in /home/ec2-user/anaconda3/envs/tfx/lib/python3.6/site-packages (from httplib2<0.20.0,>=0.8->apache-beam[gcp]<3,>=2.32->tensorflow-model-analysis) (2.4.7)\n",
      "Requirement already satisfied: pickleshare in /home/ec2-user/anaconda3/envs/tfx/lib/python3.6/site-packages (from ipython<8,>=7->tensorflow-model-analysis) (0.7.5)\n",
      "Requirement already satisfied: backcall in /home/ec2-user/anaconda3/envs/tfx/lib/python3.6/site-packages (from ipython<8,>=7->tensorflow-model-analysis) (0.2.0)\n",
      "Requirement already satisfied: pygments in /home/ec2-user/anaconda3/envs/tfx/lib/python3.6/site-packages (from ipython<8,>=7->tensorflow-model-analysis) (2.11.2)\n",
      "Requirement already satisfied: traitlets>=4.2 in /home/ec2-user/anaconda3/envs/tfx/lib/python3.6/site-packages (from ipython<8,>=7->tensorflow-model-analysis) (4.3.3)\n",
      "Requirement already satisfied: decorator in /home/ec2-user/anaconda3/envs/tfx/lib/python3.6/site-packages (from ipython<8,>=7->tensorflow-model-analysis) (5.1.1)\n",
      "Requirement already satisfied: prompt-toolkit!=3.0.0,!=3.0.1,<3.1.0,>=2.0.0 in /home/ec2-user/anaconda3/envs/tfx/lib/python3.6/site-packages (from ipython<8,>=7->tensorflow-model-analysis) (3.0.24)\n",
      "Requirement already satisfied: pexpect in /home/ec2-user/anaconda3/envs/tfx/lib/python3.6/site-packages (from ipython<8,>=7->tensorflow-model-analysis) (4.8.0)\n",
      "Requirement already satisfied: jedi<=0.17.2,>=0.10 in /home/ec2-user/anaconda3/envs/tfx/lib/python3.6/site-packages (from ipython<8,>=7->tensorflow-model-analysis) (0.17.2)\n",
      "Requirement already satisfied: ipython-genutils~=0.2.0 in /home/ec2-user/anaconda3/envs/tfx/lib/python3.6/site-packages (from ipywidgets<8,>=7->tensorflow-model-analysis) (0.2.0)\n",
      "Requirement already satisfied: widgetsnbextension~=3.5.0 in /home/ec2-user/anaconda3/envs/tfx/lib/python3.6/site-packages (from ipywidgets<8,>=7->tensorflow-model-analysis) (3.5.2)\n",
      "Requirement already satisfied: ipykernel>=4.5.1 in /home/ec2-user/anaconda3/envs/tfx/lib/python3.6/site-packages (from ipywidgets<8,>=7->tensorflow-model-analysis) (5.5.6)\n",
      "Requirement already satisfied: nbformat>=4.2.0 in /home/ec2-user/anaconda3/envs/tfx/lib/python3.6/site-packages (from ipywidgets<8,>=7->tensorflow-model-analysis) (5.1.3)\n",
      "Requirement already satisfied: jupyterlab-widgets>=1.0.0 in /home/ec2-user/anaconda3/envs/tfx/lib/python3.6/site-packages (from ipywidgets<8,>=7->tensorflow-model-analysis) (1.0.2)\n",
      "Requirement already satisfied: tornado>=4.2 in /home/ec2-user/anaconda3/envs/tfx/lib/python3.6/site-packages (from ipykernel>=4.5.1->ipywidgets<8,>=7->tensorflow-model-analysis) (6.1)\n",
      "Requirement already satisfied: jupyter-client in /home/ec2-user/anaconda3/envs/tfx/lib/python3.6/site-packages (from ipykernel>=4.5.1->ipywidgets<8,>=7->tensorflow-model-analysis) (6.1.12)\n",
      "Requirement already satisfied: parso<0.8.0,>=0.7.0 in /home/ec2-user/anaconda3/envs/tfx/lib/python3.6/site-packages (from jedi<=0.17.2,>=0.10->ipython<8,>=7->tensorflow-model-analysis) (0.7.1)\n",
      "Requirement already satisfied: pyyaml>=5.2 in /home/ec2-user/anaconda3/envs/tfx/lib/python3.6/site-packages (from libcst>=0.2.5->google-cloud-bigquery-storage>=2.6.3->apache-beam[gcp]<3,>=2.32->tensorflow-model-analysis) (5.4.1)\n",
      "Requirement already satisfied: typing-inspect>=0.4.0 in /home/ec2-user/anaconda3/envs/tfx/lib/python3.6/site-packages (from libcst>=0.2.5->google-cloud-bigquery-storage>=2.6.3->apache-beam[gcp]<3,>=2.32->tensorflow-model-analysis) (0.7.1)\n",
      "Requirement already satisfied: jupyter-core in /home/ec2-user/anaconda3/envs/tfx/lib/python3.6/site-packages (from nbformat>=4.2.0->ipywidgets<8,>=7->tensorflow-model-analysis) (4.9.1)\n",
      "Requirement already satisfied: jsonschema!=2.5.0,>=2.4 in /home/ec2-user/anaconda3/envs/tfx/lib/python3.6/site-packages (from nbformat>=4.2.0->ipywidgets<8,>=7->tensorflow-model-analysis) (3.2.0)\n",
      "Requirement already satisfied: importlib-metadata in /home/ec2-user/anaconda3/envs/tfx/lib/python3.6/site-packages (from jsonschema!=2.5.0,>=2.4->nbformat>=4.2.0->ipywidgets<8,>=7->tensorflow-model-analysis) (4.8.3)\n",
      "Requirement already satisfied: pyrsistent>=0.14.0 in /home/ec2-user/anaconda3/envs/tfx/lib/python3.6/site-packages (from jsonschema!=2.5.0,>=2.4->nbformat>=4.2.0->ipywidgets<8,>=7->tensorflow-model-analysis) (0.18.0)\n",
      "Requirement already satisfied: attrs>=17.4.0 in /home/ec2-user/anaconda3/envs/tfx/lib/python3.6/site-packages (from jsonschema!=2.5.0,>=2.4->nbformat>=4.2.0->ipywidgets<8,>=7->tensorflow-model-analysis) (20.3.0)\n",
      "Requirement already satisfied: pyasn1>=0.1.7 in /home/ec2-user/anaconda3/envs/tfx/lib/python3.6/site-packages (from oauth2client<5,>=2.0.1->apache-beam[gcp]<3,>=2.32->tensorflow-model-analysis) (0.4.8)\n",
      "Requirement already satisfied: wcwidth in /home/ec2-user/anaconda3/envs/tfx/lib/python3.6/site-packages (from prompt-toolkit!=3.0.0,!=3.0.1,<3.1.0,>=2.0.0->ipython<8,>=7->tensorflow-model-analysis) (0.2.5)\n",
      "Requirement already satisfied: idna<4,>=2.5 in /home/ec2-user/anaconda3/envs/tfx/lib/python3.6/site-packages (from requests<3.0.0,>=2.24.0->apache-beam[gcp]<3,>=2.32->tensorflow-model-analysis) (3.3)\n",
      "Requirement already satisfied: certifi>=2017.4.17 in /home/ec2-user/anaconda3/envs/tfx/lib/python3.6/site-packages (from requests<3.0.0,>=2.24.0->apache-beam[gcp]<3,>=2.32->tensorflow-model-analysis) (2020.6.20)\n",
      "Requirement already satisfied: urllib3<1.27,>=1.21.1 in /home/ec2-user/anaconda3/envs/tfx/lib/python3.6/site-packages (from requests<3.0.0,>=2.24.0->apache-beam[gcp]<3,>=2.32->tensorflow-model-analysis) (1.26.8)\n",
      "Requirement already satisfied: charset-normalizer~=2.0.0 in /home/ec2-user/anaconda3/envs/tfx/lib/python3.6/site-packages (from requests<3.0.0,>=2.24.0->apache-beam[gcp]<3,>=2.32->tensorflow-model-analysis) (2.0.10)\n",
      "Requirement already satisfied: wrapt~=1.12.1 in /home/ec2-user/anaconda3/envs/tfx/lib/python3.6/site-packages (from tensorflow!=2.0.*,!=2.1.*,!=2.2.*,!=2.3.*,!=2.4.*,!=2.5.*,<3,>=1.15.2->tensorflow-model-analysis) (1.12.1)\n",
      "Requirement already satisfied: clang~=5.0 in /home/ec2-user/anaconda3/envs/tfx/lib/python3.6/site-packages (from tensorflow!=2.0.*,!=2.1.*,!=2.2.*,!=2.3.*,!=2.4.*,!=2.5.*,<3,>=1.15.2->tensorflow-model-analysis) (5.0)\n",
      "Requirement already satisfied: opt-einsum~=3.3.0 in /home/ec2-user/anaconda3/envs/tfx/lib/python3.6/site-packages (from tensorflow!=2.0.*,!=2.1.*,!=2.2.*,!=2.3.*,!=2.4.*,!=2.5.*,<3,>=1.15.2->tensorflow-model-analysis) (3.3.0)\n",
      "Requirement already satisfied: tensorflow-estimator<2.7,>=2.6.0 in /home/ec2-user/anaconda3/envs/tfx/lib/python3.6/site-packages (from tensorflow!=2.0.*,!=2.1.*,!=2.2.*,!=2.3.*,!=2.4.*,!=2.5.*,<3,>=1.15.2->tensorflow-model-analysis) (2.6.0)\n",
      "Requirement already satisfied: wheel~=0.35 in /home/ec2-user/anaconda3/envs/tfx/lib/python3.6/site-packages (from tensorflow!=2.0.*,!=2.1.*,!=2.2.*,!=2.3.*,!=2.4.*,!=2.5.*,<3,>=1.15.2->tensorflow-model-analysis) (0.37.1)\n",
      "Requirement already satisfied: tensorboard<2.7,>=2.6.0 in /home/ec2-user/anaconda3/envs/tfx/lib/python3.6/site-packages (from tensorflow!=2.0.*,!=2.1.*,!=2.2.*,!=2.3.*,!=2.4.*,!=2.5.*,<3,>=1.15.2->tensorflow-model-analysis) (2.6.0)\n",
      "Requirement already satisfied: astunparse~=1.6.3 in /home/ec2-user/anaconda3/envs/tfx/lib/python3.6/site-packages (from tensorflow!=2.0.*,!=2.1.*,!=2.2.*,!=2.3.*,!=2.4.*,!=2.5.*,<3,>=1.15.2->tensorflow-model-analysis) (1.6.3)\n",
      "Requirement already satisfied: google-pasta~=0.2 in /home/ec2-user/anaconda3/envs/tfx/lib/python3.6/site-packages (from tensorflow!=2.0.*,!=2.1.*,!=2.2.*,!=2.3.*,!=2.4.*,!=2.5.*,<3,>=1.15.2->tensorflow-model-analysis) (0.2.0)\n",
      "Requirement already satisfied: h5py~=3.1.0 in /home/ec2-user/anaconda3/envs/tfx/lib/python3.6/site-packages (from tensorflow!=2.0.*,!=2.1.*,!=2.2.*,!=2.3.*,!=2.4.*,!=2.5.*,<3,>=1.15.2->tensorflow-model-analysis) (3.1.0)\n",
      "Requirement already satisfied: termcolor~=1.1.0 in /home/ec2-user/anaconda3/envs/tfx/lib/python3.6/site-packages (from tensorflow!=2.0.*,!=2.1.*,!=2.2.*,!=2.3.*,!=2.4.*,!=2.5.*,<3,>=1.15.2->tensorflow-model-analysis) (1.1.0)\n",
      "Requirement already satisfied: gast==0.4.0 in /home/ec2-user/anaconda3/envs/tfx/lib/python3.6/site-packages (from tensorflow!=2.0.*,!=2.1.*,!=2.2.*,!=2.3.*,!=2.4.*,!=2.5.*,<3,>=1.15.2->tensorflow-model-analysis) (0.4.0)\n",
      "Requirement already satisfied: keras-preprocessing~=1.1.2 in /home/ec2-user/anaconda3/envs/tfx/lib/python3.6/site-packages (from tensorflow!=2.0.*,!=2.1.*,!=2.2.*,!=2.3.*,!=2.4.*,!=2.5.*,<3,>=1.15.2->tensorflow-model-analysis) (1.1.2)\n",
      "Requirement already satisfied: flatbuffers~=1.12.0 in /home/ec2-user/anaconda3/envs/tfx/lib/python3.6/site-packages (from tensorflow!=2.0.*,!=2.1.*,!=2.2.*,!=2.3.*,!=2.4.*,!=2.5.*,<3,>=1.15.2->tensorflow-model-analysis) (1.12)\n",
      "Requirement already satisfied: keras<2.7,>=2.6.0 in /home/ec2-user/anaconda3/envs/tfx/lib/python3.6/site-packages (from tensorflow!=2.0.*,!=2.1.*,!=2.2.*,!=2.3.*,!=2.4.*,!=2.5.*,<3,>=1.15.2->tensorflow-model-analysis) (2.6.0)\n",
      "Requirement already satisfied: cached-property in /home/ec2-user/anaconda3/envs/tfx/lib/python3.6/site-packages (from h5py~=3.1.0->tensorflow!=2.0.*,!=2.1.*,!=2.2.*,!=2.3.*,!=2.4.*,!=2.5.*,<3,>=1.15.2->tensorflow-model-analysis) (1.5.2)\n",
      "Requirement already satisfied: werkzeug>=0.11.15 in /home/ec2-user/anaconda3/envs/tfx/lib/python3.6/site-packages (from tensorboard<2.7,>=2.6.0->tensorflow!=2.0.*,!=2.1.*,!=2.2.*,!=2.3.*,!=2.4.*,!=2.5.*,<3,>=1.15.2->tensorflow-model-analysis) (0.16.1)\n",
      "Requirement already satisfied: markdown>=2.6.8 in /home/ec2-user/anaconda3/envs/tfx/lib/python3.6/site-packages (from tensorboard<2.7,>=2.6.0->tensorflow!=2.0.*,!=2.1.*,!=2.2.*,!=2.3.*,!=2.4.*,!=2.5.*,<3,>=1.15.2->tensorflow-model-analysis) (2.6.11)\n",
      "Requirement already satisfied: tensorboard-plugin-wit>=1.6.0 in /home/ec2-user/anaconda3/envs/tfx/lib/python3.6/site-packages (from tensorboard<2.7,>=2.6.0->tensorflow!=2.0.*,!=2.1.*,!=2.2.*,!=2.3.*,!=2.4.*,!=2.5.*,<3,>=1.15.2->tensorflow-model-analysis) (1.8.1)\n",
      "Requirement already satisfied: google-auth-oauthlib<0.5,>=0.4.1 in /home/ec2-user/anaconda3/envs/tfx/lib/python3.6/site-packages (from tensorboard<2.7,>=2.6.0->tensorflow!=2.0.*,!=2.1.*,!=2.2.*,!=2.3.*,!=2.4.*,!=2.5.*,<3,>=1.15.2->tensorflow-model-analysis) (0.4.6)\n",
      "Requirement already satisfied: tensorboard-data-server<0.7.0,>=0.6.0 in /home/ec2-user/anaconda3/envs/tfx/lib/python3.6/site-packages (from tensorboard<2.7,>=2.6.0->tensorflow!=2.0.*,!=2.1.*,!=2.2.*,!=2.3.*,!=2.4.*,!=2.5.*,<3,>=1.15.2->tensorflow-model-analysis) (0.6.1)\n",
      "Requirement already satisfied: requests-oauthlib>=0.7.0 in /home/ec2-user/anaconda3/envs/tfx/lib/python3.6/site-packages (from google-auth-oauthlib<0.5,>=0.4.1->tensorboard<2.7,>=2.6.0->tensorflow!=2.0.*,!=2.1.*,!=2.2.*,!=2.3.*,!=2.4.*,!=2.5.*,<3,>=1.15.2->tensorflow-model-analysis) (1.3.0)\n",
      "Requirement already satisfied: oauthlib>=3.0.0 in /home/ec2-user/anaconda3/envs/tfx/lib/python3.6/site-packages (from requests-oauthlib>=0.7.0->google-auth-oauthlib<0.5,>=0.4.1->tensorboard<2.7,>=2.6.0->tensorflow!=2.0.*,!=2.1.*,!=2.2.*,!=2.3.*,!=2.4.*,!=2.5.*,<3,>=1.15.2->tensorflow-model-analysis) (3.1.1)\n",
      "Requirement already satisfied: tensorflow-serving-api!=2.0.*,!=2.1.*,!=2.2.*,!=2.3.*,!=2.4.*,!=2.5.*,<3,>=1.15 in /home/ec2-user/anaconda3/envs/tfx/lib/python3.6/site-packages (from tfx-bsl<1.4.0,>=1.3.0->tensorflow-model-analysis) (2.6.2)\n",
      "Requirement already satisfied: google-api-python-client<2,>=1.7.11 in /home/ec2-user/anaconda3/envs/tfx/lib/python3.6/site-packages (from tfx-bsl<1.4.0,>=1.3.0->tensorflow-model-analysis) (1.12.8)\n",
      "Requirement already satisfied: uritemplate<4dev,>=3.0.0 in /home/ec2-user/anaconda3/envs/tfx/lib/python3.6/site-packages (from google-api-python-client<2,>=1.7.11->tfx-bsl<1.4.0,>=1.3.0->tensorflow-model-analysis) (3.0.1)\n",
      "Requirement already satisfied: google-auth-httplib2>=0.0.3 in /home/ec2-user/anaconda3/envs/tfx/lib/python3.6/site-packages (from google-api-python-client<2,>=1.7.11->tfx-bsl<1.4.0,>=1.3.0->tensorflow-model-analysis) (0.1.0)\n",
      "Requirement already satisfied: mypy-extensions>=0.3.0 in /home/ec2-user/anaconda3/envs/tfx/lib/python3.6/site-packages (from typing-inspect>=0.4.0->libcst>=0.2.5->google-cloud-bigquery-storage>=2.6.3->apache-beam[gcp]<3,>=2.32->tensorflow-model-analysis) (0.4.3)\n",
      "Requirement already satisfied: notebook>=4.4.1 in /home/ec2-user/anaconda3/envs/tfx/lib/python3.6/site-packages (from widgetsnbextension~=3.5.0->ipywidgets<8,>=7->tensorflow-model-analysis) (6.4.6)\n",
      "Requirement already satisfied: argon2-cffi in /home/ec2-user/anaconda3/envs/tfx/lib/python3.6/site-packages (from notebook>=4.4.1->widgetsnbextension~=3.5.0->ipywidgets<8,>=7->tensorflow-model-analysis) (21.3.0)\n",
      "Requirement already satisfied: terminado>=0.8.3 in /home/ec2-user/anaconda3/envs/tfx/lib/python3.6/site-packages (from notebook>=4.4.1->widgetsnbextension~=3.5.0->ipywidgets<8,>=7->tensorflow-model-analysis) (0.12.1)\n",
      "Requirement already satisfied: jinja2 in /home/ec2-user/anaconda3/envs/tfx/lib/python3.6/site-packages (from notebook>=4.4.1->widgetsnbextension~=3.5.0->ipywidgets<8,>=7->tensorflow-model-analysis) (2.10.3)\n",
      "Requirement already satisfied: pyzmq>=17 in /home/ec2-user/anaconda3/envs/tfx/lib/python3.6/site-packages (from notebook>=4.4.1->widgetsnbextension~=3.5.0->ipywidgets<8,>=7->tensorflow-model-analysis) (22.3.0)\n",
      "Requirement already satisfied: nest-asyncio>=1.5 in /home/ec2-user/anaconda3/envs/tfx/lib/python3.6/site-packages (from notebook>=4.4.1->widgetsnbextension~=3.5.0->ipywidgets<8,>=7->tensorflow-model-analysis) (1.5.4)\n",
      "Requirement already satisfied: nbconvert in /home/ec2-user/anaconda3/envs/tfx/lib/python3.6/site-packages (from notebook>=4.4.1->widgetsnbextension~=3.5.0->ipywidgets<8,>=7->tensorflow-model-analysis) (6.0.7)\n",
      "Requirement already satisfied: prometheus-client in /home/ec2-user/anaconda3/envs/tfx/lib/python3.6/site-packages (from notebook>=4.4.1->widgetsnbextension~=3.5.0->ipywidgets<8,>=7->tensorflow-model-analysis) (0.12.0)\n",
      "Requirement already satisfied: Send2Trash>=1.8.0 in /home/ec2-user/anaconda3/envs/tfx/lib/python3.6/site-packages (from notebook>=4.4.1->widgetsnbextension~=3.5.0->ipywidgets<8,>=7->tensorflow-model-analysis) (1.8.0)\n",
      "Requirement already satisfied: ptyprocess in /home/ec2-user/anaconda3/envs/tfx/lib/python3.6/site-packages (from terminado>=0.8.3->notebook>=4.4.1->widgetsnbextension~=3.5.0->ipywidgets<8,>=7->tensorflow-model-analysis) (0.7.0)\n",
      "Requirement already satisfied: argon2-cffi-bindings in /home/ec2-user/anaconda3/envs/tfx/lib/python3.6/site-packages (from argon2-cffi->notebook>=4.4.1->widgetsnbextension~=3.5.0->ipywidgets<8,>=7->tensorflow-model-analysis) (21.2.0)\n",
      "Requirement already satisfied: cffi>=1.0.1 in /home/ec2-user/anaconda3/envs/tfx/lib/python3.6/site-packages (from argon2-cffi-bindings->argon2-cffi->notebook>=4.4.1->widgetsnbextension~=3.5.0->ipywidgets<8,>=7->tensorflow-model-analysis) (1.15.0)\n",
      "Requirement already satisfied: pycparser in /home/ec2-user/anaconda3/envs/tfx/lib/python3.6/site-packages (from cffi>=1.0.1->argon2-cffi-bindings->argon2-cffi->notebook>=4.4.1->widgetsnbextension~=3.5.0->ipywidgets<8,>=7->tensorflow-model-analysis) (2.21)\n",
      "Requirement already satisfied: zipp>=0.5 in /home/ec2-user/anaconda3/envs/tfx/lib/python3.6/site-packages (from importlib-metadata->jsonschema!=2.5.0,>=2.4->nbformat>=4.2.0->ipywidgets<8,>=7->tensorflow-model-analysis) (3.6.0)\n",
      "Requirement already satisfied: MarkupSafe>=0.23 in /home/ec2-user/anaconda3/envs/tfx/lib/python3.6/site-packages (from jinja2->notebook>=4.4.1->widgetsnbextension~=3.5.0->ipywidgets<8,>=7->tensorflow-model-analysis) (2.0.1)\n",
      "Requirement already satisfied: entrypoints>=0.2.2 in /home/ec2-user/anaconda3/envs/tfx/lib/python3.6/site-packages (from nbconvert->notebook>=4.4.1->widgetsnbextension~=3.5.0->ipywidgets<8,>=7->tensorflow-model-analysis) (0.3)\n",
      "Requirement already satisfied: jupyterlab-pygments in /home/ec2-user/anaconda3/envs/tfx/lib/python3.6/site-packages (from nbconvert->notebook>=4.4.1->widgetsnbextension~=3.5.0->ipywidgets<8,>=7->tensorflow-model-analysis) (0.1.2)\n",
      "Requirement already satisfied: pandocfilters>=1.4.1 in /home/ec2-user/anaconda3/envs/tfx/lib/python3.6/site-packages (from nbconvert->notebook>=4.4.1->widgetsnbextension~=3.5.0->ipywidgets<8,>=7->tensorflow-model-analysis) (1.5.0)\n",
      "Requirement already satisfied: nbclient<0.6.0,>=0.5.0 in /home/ec2-user/anaconda3/envs/tfx/lib/python3.6/site-packages (from nbconvert->notebook>=4.4.1->widgetsnbextension~=3.5.0->ipywidgets<8,>=7->tensorflow-model-analysis) (0.5.9)\n",
      "Requirement already satisfied: defusedxml in /home/ec2-user/anaconda3/envs/tfx/lib/python3.6/site-packages (from nbconvert->notebook>=4.4.1->widgetsnbextension~=3.5.0->ipywidgets<8,>=7->tensorflow-model-analysis) (0.7.1)\n",
      "Requirement already satisfied: testpath in /home/ec2-user/anaconda3/envs/tfx/lib/python3.6/site-packages (from nbconvert->notebook>=4.4.1->widgetsnbextension~=3.5.0->ipywidgets<8,>=7->tensorflow-model-analysis) (0.5.0)\n",
      "Requirement already satisfied: bleach in /home/ec2-user/anaconda3/envs/tfx/lib/python3.6/site-packages (from nbconvert->notebook>=4.4.1->widgetsnbextension~=3.5.0->ipywidgets<8,>=7->tensorflow-model-analysis) (4.1.0)\n",
      "Requirement already satisfied: mistune<2,>=0.8.1 in /home/ec2-user/anaconda3/envs/tfx/lib/python3.6/site-packages (from nbconvert->notebook>=4.4.1->widgetsnbextension~=3.5.0->ipywidgets<8,>=7->tensorflow-model-analysis) (0.8.4)\n",
      "Requirement already satisfied: async-generator in /home/ec2-user/anaconda3/envs/tfx/lib/python3.6/site-packages (from nbclient<0.6.0,>=0.5.0->nbconvert->notebook>=4.4.1->widgetsnbextension~=3.5.0->ipywidgets<8,>=7->tensorflow-model-analysis) (1.10)\n",
      "Requirement already satisfied: webencodings in /home/ec2-user/anaconda3/envs/tfx/lib/python3.6/site-packages (from bleach->nbconvert->notebook>=4.4.1->widgetsnbextension~=3.5.0->ipywidgets<8,>=7->tensorflow-model-analysis) (0.5.1)\n",
      "Note: you may need to restart the kernel to use updated packages.\n"
     ]
    }
   ],
   "source": [
    "pip install tensorflow-model-analysis"
   ]
  },
  {
   "cell_type": "code",
   "execution_count": 17,
   "metadata": {},
   "outputs": [
    {
     "ename": "TypeError",
     "evalue": "__new__() missing 7 required positional arguments: 'slicing_metrics', 'plots', 'attributions', 'config', 'data_location', 'file_format', and 'model_location'",
     "output_type": "error",
     "traceback": [
      "\u001b[0;31m---------------------------------------------------------------------------\u001b[0m",
      "\u001b[0;31mTypeError\u001b[0m                                 Traceback (most recent call last)",
      "\u001b[0;32m<ipython-input-17-f78faa07b11b>\u001b[0m in \u001b[0;36m<module>\u001b[0;34m\u001b[0m\n\u001b[1;32m      1\u001b[0m \u001b[0;32mimport\u001b[0m \u001b[0mtensorflow_model_analysis\u001b[0m \u001b[0;32mas\u001b[0m \u001b[0mtfma\u001b[0m\u001b[0;34m\u001b[0m\u001b[0;34m\u001b[0m\u001b[0m\n\u001b[1;32m      2\u001b[0m \u001b[0;34m\u001b[0m\u001b[0m\n\u001b[0;32m----> 3\u001b[0;31m \u001b[0mtfma\u001b[0m\u001b[0;34m.\u001b[0m\u001b[0mEvalResult\u001b[0m\u001b[0;34m(\u001b[0m\u001b[0;34m)\u001b[0m\u001b[0;34m\u001b[0m\u001b[0;34m\u001b[0m\u001b[0m\n\u001b[0m",
      "\u001b[0;31mTypeError\u001b[0m: __new__() missing 7 required positional arguments: 'slicing_metrics', 'plots', 'attributions', 'config', 'data_location', 'file_format', and 'model_location'"
     ]
    }
   ],
   "source": [
    "import tensorflow_model_analysis as tfma\n",
    "\n",
    "tfma.EvalResult(slicing_metrics='/home/ec2-user/Development/MLOPS/kirenz-mlops-semester/aws-mwaa-local-runner/dags/police-uk-pipeline/pipeline/Evaluator/evaluation/35/metrics',\n",
    "plots='/home/ec2-user/Development/MLOPS/kirenz-mlops-semester/aws-mwaa-local-runner/dags/police-uk-pipeline/pipeline/Evaluator/evaluation/35/plots',\n",
    "attributions='/home/ec2-user/Development/MLOPS/kirenz-mlops-semester/aws-mwaa-local-runner/dags/police-uk-pipeline/pipeline/Evaluator/evaluation/35/attributions',\n",
    "config=,\n",
    "data_location=,\n",
    "file_format=,\n",
    "model_location=)"
   ]
  },
  {
   "cell_type": "code",
   "execution_count": null,
   "metadata": {},
   "outputs": [],
   "source": []
  },
  {
   "cell_type": "code",
   "execution_count": 4,
   "metadata": {},
   "outputs": [
    {
     "data": {
      "application/vnd.jupyter.widget-view+json": {
       "model_id": "67357f8ca7c246fc8802cc293710ec30",
       "version_major": 2,
       "version_minor": 0
      },
      "text/plain": [
       "SlicingMetricsViewer(config={'weightedExamplesColumn': 'example_count'}, data=[{'slice': 'Overall', 'metrics':…"
      ]
     },
     "metadata": {},
     "output_type": "display_data"
    }
   ],
   "source": [
    "import tensorflow_model_analysis as tfma\n",
    "\n",
    "eval_result = tfma.load_eval_result('/home/ec2-user/Development/MLOPS/kirenz-mlops-semester/aws-mwaa-local-runner/dags/police-uk-pipeline/pipeline/Evaluator/evaluation/111')\n",
    "#print(eval_result)\n",
    "#tfma.view.render_plot(eval_result)\n",
    "tfma.view.render_slicing_metrics(eval_result)"
   ]
  }
 ],
 "metadata": {
  "interpreter": {
   "hash": "d2a744fe5b8a1280557fe5b1a16c6dccb1d030e7733e9a8c7d2918612fb0a798"
  },
  "kernelspec": {
   "display_name": "Python 3",
   "language": "python",
   "name": "python3"
  },
  "language_info": {
   "codemirror_mode": {
    "name": "ipython",
    "version": 3
   },
   "file_extension": ".py",
   "mimetype": "text/x-python",
   "name": "python",
   "nbconvert_exporter": "python",
   "pygments_lexer": "ipython3",
   "version": "3.6.13"
  }
 },
 "nbformat": 4,
 "nbformat_minor": 2
}
