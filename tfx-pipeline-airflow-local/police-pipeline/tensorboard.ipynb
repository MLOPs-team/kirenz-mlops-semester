{
 "cells": [
  {
   "cell_type": "code",
   "execution_count": 1,
   "metadata": {},
   "outputs": [
    {
     "name": "stdout",
     "output_type": "stream",
     "text": [
      "tensorboard_logdir: /home/ec2-user/Development/MLOPS/kirenz-mlops-semester/aws-mwaa-local-runner/dags/fit/20220204-224118\n"
     ]
    }
   ],
   "source": [
    "from __future__ import print_function\n",
    "\n",
    "import os\n",
    "import webbrowser\n",
    "import tensorflow as tf\n",
    "\n",
    "!pip install -q tensorboard\n",
    "tf.get_logger().propagate = False\n",
    "\n",
    "pipeline_name = 'police-uk'\n",
    "tensorboard_logdir = os.path.join('/home/ec2-user/Development/MLOPS/kirenz-mlops-semester/aws-mwaa-local-runner/dags/fit/20220204-224118')\n",
    "print('tensorboard_logdir: {}'.format(tensorboard_logdir))\n",
    "os.environ['TENSORBOARD_LOGDIR'] = tensorboard_logdir"
   ]
  },
  {
   "cell_type": "code",
   "execution_count": 2,
   "metadata": {},
   "outputs": [
    {
     "name": "stdout",
     "output_type": "stream",
     "text": [
      "2022-02-04 22:45:33.691481: W tensorflow/stream_executor/platform/default/dso_loader.cc:64] Could not load dynamic library 'libcudart.so.11.0'; dlerror: libcudart.so.11.0: cannot open shared object file: No such file or directory\n",
      "2022-02-04 22:45:33.691609: I tensorflow/stream_executor/cuda/cudart_stub.cc:29] Ignore above cudart dlerror if you do not have a GPU set up on your machine.\n",
      "2022-02-04 22:45:35.617375: W tensorflow/stream_executor/platform/default/dso_loader.cc:64] Could not load dynamic library 'libcuda.so.1'; dlerror: libcuda.so.1: cannot open shared object file: No such file or directory\n",
      "2022-02-04 22:45:35.617426: W tensorflow/stream_executor/cuda/cuda_driver.cc:269] failed call to cuInit: UNKNOWN ERROR (303)\n",
      "2022-02-04 22:45:35.617463: I tensorflow/stream_executor/cuda/cuda_diagnostics.cc:156] kernel driver does not appear to be running on this host (ip-172-31-45-51.eu-central-1.compute.internal): /proc/driver/nvidia/version does not exist\n",
      "\n",
      "NOTE: Using experimental fast data loading logic. To disable, pass\n",
      "    \"--load_fast=false\" and report issues on GitHub. More details:\n",
      "    https://github.com/tensorflow/tensorboard/issues/4784\n",
      "\n",
      "TensorBoard 2.6.0 at http://ip-172-31-45-51.eu-central-1.compute.internal:6006/ (Press CTRL+C to quit)\n",
      "W0204 22:48:43.635986 140242426263296 security_validator.py:46] In 3.0, this warning will become an error:\n",
      "X-Content-Type-Options is required to be \"nosniff\"\n",
      "W0204 22:48:43.655669 140242426263296 security_validator.py:46] In 3.0, this warning will become an error:\n",
      "X-Content-Type-Options is required to be \"nosniff\"\n",
      "W0204 22:48:43.656059 140242426263296 security_validator.py:46] In 3.0, this warning will become an error:\n",
      "Requires default-src for Content-Security-Policy\n",
      "W0204 22:48:43.789237 140242426263296 security_validator.py:46] In 3.0, this warning will become an error:\n",
      "X-Content-Type-Options is required to be \"nosniff\"\n",
      "W0204 22:48:44.649213 140242426263296 application.py:556] path /data/plugin/whatif/data/plugins_listing not found, sending 404\n",
      "W0204 22:48:44.857819 140242426263296 application.py:556] path /data/plugin/whatif/data/plugins_listing not found, sending 404\n",
      "W0204 22:48:44.875723 140242426263296 application.py:556] path /data/plugin/whatif/data/plugins_listing not found, sending 404\n",
      "W0204 22:48:44.880254 140242426263296 application.py:556] path /data/plugin/whatif/data/plugins_listing not found, sending 404\n",
      "E0204 22:48:57.759155 140242426263296 hparams_plugin.py:131] HParams error: Can't find an HParams-plugin experiment data in the log directory. Note that it takes some time to scan the log directory; if you just started Tensorboard it could be that we haven't finished scanning it yet. Consider trying again in a few seconds.\n",
      "W0204 22:48:57.759524 140242426263296 security_validator.py:46] In 3.0, this warning will become an error:\n",
      "X-Content-Type-Options is required to be \"nosniff\"\n",
      "W0204 22:48:57.759678 140242426263296 security_validator.py:46] In 3.0, this warning will become an error:\n",
      "Requires default-src for Content-Security-Policy\n",
      "E0204 22:48:57.821276 140242426263296 hparams_plugin.py:131] HParams error: Can't find an HParams-plugin experiment data in the log directory. Note that it takes some time to scan the log directory; if you just started Tensorboard it could be that we haven't finished scanning it yet. Consider trying again in a few seconds.\n",
      "W0204 22:48:57.821647 140242426263296 security_validator.py:46] In 3.0, this warning will become an error:\n",
      "X-Content-Type-Options is required to be \"nosniff\"\n",
      "W0204 22:48:57.821860 140242426263296 security_validator.py:46] In 3.0, this warning will become an error:\n",
      "Requires default-src for Content-Security-Policy\n",
      "E0204 22:48:57.856554 140242426263296 hparams_plugin.py:131] HParams error: Can't find an HParams-plugin experiment data in the log directory. Note that it takes some time to scan the log directory; if you just started Tensorboard it could be that we haven't finished scanning it yet. Consider trying again in a few seconds.\n",
      "W0204 22:48:57.856921 140242426263296 security_validator.py:46] In 3.0, this warning will become an error:\n",
      "X-Content-Type-Options is required to be \"nosniff\"\n",
      "W0204 22:48:57.857084 140242426263296 security_validator.py:46] In 3.0, this warning will become an error:\n",
      "Requires default-src for Content-Security-Policy\n",
      "E0204 22:48:57.917069 140242426263296 hparams_plugin.py:131] HParams error: Can't find an HParams-plugin experiment data in the log directory. Note that it takes some time to scan the log directory; if you just started Tensorboard it could be that we haven't finished scanning it yet. Consider trying again in a few seconds.\n",
      "W0204 22:48:57.917427 140242426263296 security_validator.py:46] In 3.0, this warning will become an error:\n",
      "X-Content-Type-Options is required to be \"nosniff\"\n",
      "W0204 22:48:57.917598 140242426263296 security_validator.py:46] In 3.0, this warning will become an error:\n",
      "Requires default-src for Content-Security-Policy\n",
      "^C\n"
     ]
    }
   ],
   "source": [
    "!tensorboard --bind_all --logdir=\"${TENSORBOARD_LOGDIR}\""
   ]
  }
 ],
 "metadata": {
  "interpreter": {
   "hash": "d2a744fe5b8a1280557fe5b1a16c6dccb1d030e7733e9a8c7d2918612fb0a798"
  },
  "kernelspec": {
   "display_name": "Python 3.6.13 64-bit ('tfx': conda)",
   "language": "python",
   "name": "python3"
  },
  "language_info": {
   "codemirror_mode": {
    "name": "ipython",
    "version": 3
   },
   "file_extension": ".py",
   "mimetype": "text/x-python",
   "name": "python",
   "nbconvert_exporter": "python",
   "pygments_lexer": "ipython3",
   "version": "3.6.13"
  },
  "orig_nbformat": 4
 },
 "nbformat": 4,
 "nbformat_minor": 2
}
