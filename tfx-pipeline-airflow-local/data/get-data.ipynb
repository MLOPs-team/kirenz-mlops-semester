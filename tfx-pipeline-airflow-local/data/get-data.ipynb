{
 "cells": [
  {
   "cell_type": "code",
   "execution_count": 95,
   "id": "b8208912",
   "metadata": {},
   "outputs": [],
   "source": [
    "import requests\n",
    "import pandas as pd\n",
    "from datetime import date\n",
    "import json\n",
    "\n",
    "\n",
    "reqForces = requests.get('https://data.police.uk/api/crimes-street-dates')\n",
    "\n",
    "jsonForces = reqForces.json()"
   ]
  },
  {
   "cell_type": "code",
   "execution_count": null,
   "id": "a23bf6b4",
   "metadata": {
    "scrolled": true
   },
   "outputs": [],
   "source": [
    "dataJson = []\n",
    "for month in jsonForces:\n",
    "    if str(month['date']) > '2019-10':\n",
    "        print(month['date'])\n",
    "        for force in month['stop-and-search']:\n",
    "            reqStopandSearch = requests.get('https://data.police.uk/api/stops-force?force=' + str(force) + '&date=' + str(month['date']))\n",
    "            if reqStopandSearch.status_code == 200:\n",
    "                djson = reqStopandSearch.json()\n",
    "                for item in djson:\n",
    "                    item['force'] = force\n",
    "                    dataJson.append(item)\n",
    "            print('ok')\n"
   ]
  },
  {
   "cell_type": "code",
   "execution_count": 100,
   "id": "4b868491",
   "metadata": {},
   "outputs": [],
   "source": [
    "with open(\"dataForces_2.json\", 'w') as outfile:\n",
    "    json.dump(dataJson, outfile)"
   ]
  }
 ],
 "metadata": {
  "kernelspec": {
   "display_name": "Python 3",
   "language": "python",
   "name": "python3"
  }
 },
 "nbformat": 4,
 "nbformat_minor": 5
}
