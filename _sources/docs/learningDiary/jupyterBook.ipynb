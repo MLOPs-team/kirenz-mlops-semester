{
 "cells": [
  {
   "cell_type": "markdown",
   "id": "30be00e9",
   "metadata": {},
   "source": [
    "# Jupyter-Book good to know\n",
    "\n",
    "## General Information\n",
    "\n",
    "All files are in the folder docs."
   ]
  },
  {
   "cell_type": "markdown",
   "id": "cf1dc516",
   "metadata": {},
   "source": [
    "## Sections in a file"
   ]
  },
  {
   "cell_type": "code",
   "execution_count": 1,
   "id": "37e660d9",
   "metadata": {},
   "outputs": [],
   "source": [
    "# Chapter 1 title\n",
    "\n",
    "## Chapter 1 second header\n",
    "\n",
    "### Chapter 1 third header\n",
    "\n",
    "#### Chapter 1 section title\n",
    "\n",
    "##### Chapter 1 section second header"
   ]
  },
  {
   "cell_type": "markdown",
   "id": "adcca414",
   "metadata": {},
   "source": [
    "### Table of Content\n",
    "\n",
    "The title '# Chapter 1 Title' of the file is listed in the table of contents (see on the left)\n",
    "\n",
    "The second, third.... header ist listed in the table of comtents on the top right hand corner\n",
    "\n",
    "If you added a new file in the learning diary or technical documentation, you also need to update the _toc.yml.\n",
    "You just need to add the added file in the expecting chapter."
   ]
  },
  {
   "cell_type": "markdown",
   "id": "e0a259dd",
   "metadata": {},
   "source": [
    "#### How to build the Jupyter-Book"
   ]
  },
  {
   "cell_type": "code",
   "execution_count": null,
   "id": "e2967d44",
   "metadata": {},
   "outputs": [],
   "source": []
  },
  {
   "cell_type": "code",
   "execution_count": 2,
   "id": "34b136d1",
   "metadata": {},
   "outputs": [
    {
     "ename": "SyntaxError",
     "evalue": "invalid syntax (132967115.py, line 1)",
     "output_type": "error",
     "traceback": [
      "\u001b[0;36m  File \u001b[0;32m\"/tmp/ipykernel_1588/132967115.py\"\u001b[0;36m, line \u001b[0;32m1\u001b[0m\n\u001b[0;31m    jupyter-book build --all jupyter-book/\u001b[0m\n\u001b[0m                     ^\u001b[0m\n\u001b[0;31mSyntaxError\u001b[0m\u001b[0;31m:\u001b[0m invalid syntax\n"
     ]
    }
   ],
   "source": [
    "jupyter-book build --all jupyter-book/"
   ]
  }
 ],
 "metadata": {
  "jupytext": {
   "text_representation": {
    "extension": ".md",
    "format_name": "myst",
    "format_version": 0.13,
    "jupytext_version": "1.11.5"
   }
  },
  "kernelspec": {
   "display_name": "Python 3.9.7 64-bit (windows store)",
   "name": "python3"
  },
  "language_info": {
   "codemirror_mode": {
    "name": "ipython",
    "version": 3
   },
   "file_extension": ".py",
   "mimetype": "text/x-python",
   "name": "python",
   "nbconvert_exporter": "python",
   "pygments_lexer": "ipython3",
   "version": "3.7.12"
  },
  "source_map": [
   11,
   19,
   23,
   33,
   44,
   48,
   52
  ]
 },
 "nbformat": 4,
 "nbformat_minor": 5
}