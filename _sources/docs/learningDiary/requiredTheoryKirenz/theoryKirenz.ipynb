{
 "cells": [
  {
   "cell_type": "markdown",
   "id": "aa6d68ec",
   "metadata": {},
   "source": [
    "# Notes: Required reading Kirenz"
   ]
  },
  {
   "cell_type": "markdown",
   "id": "cdf6a414",
   "metadata": {},
   "source": [
    "In this section, all the info respectively the knowledge about the required reading is fixed.\n",
    "\n",
    "..."
   ]
  }
 ],
 "metadata": {
  "jupytext": {
   "text_representation": {
    "extension": ".md",
    "format_name": "myst",
    "format_version": 0.13,
    "jupytext_version": "1.11.5"
   }
  },
  "kernelspec": {
   "display_name": "Python 3.9.7 64-bit (windows store)",
   "name": "python3"
  },
  "language_info": {
   "codemirror_mode": {
    "name": "ipython",
    "version": 3
   },
   "file_extension": ".py",
   "mimetype": "text/x-python",
   "name": "python",
   "nbconvert_exporter": "python",
   "pygments_lexer": "ipython3",
   "version": "3.7.12"
  },
  "source_map": [
   11,
   15
  ]
 },
 "nbformat": 4,
 "nbformat_minor": 5
}