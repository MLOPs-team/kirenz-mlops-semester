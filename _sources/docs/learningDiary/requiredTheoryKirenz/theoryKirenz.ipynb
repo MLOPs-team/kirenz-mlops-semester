{
 "cells": [
  {
   "cell_type": "markdown",
   "metadata": {},
   "source": [
    "# Notes: Required reading Kirenz\n"
   ]
  }
 ],
 "metadata": {
  "interpreter": {
   "hash": "4df74ba5e0d69459924f467b14f6fc64d1b1e193f20aaeb843df8160b10d7ed6"
  },
  "kernelspec": {
   "display_name": "Python 3.9.7 64-bit (windows store)",
   "name": "python3"
  },
  "language_info": {
   "name": "python",
   "version": ""
  },
  "widgets": {
   "application/vnd.jupyter.widget-state+json": {
    "state": {},
    "version_major": 2,
    "version_minor": 0
   }
  }
 },
 "nbformat": 4,
 "nbformat_minor": 4
}
