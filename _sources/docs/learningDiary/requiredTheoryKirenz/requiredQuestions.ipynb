{
 "cells": [
  {
   "cell_type": "markdown",
   "metadata": {},
   "source": [
    "# Notes: Required questions - theory Kirenz\n"
   ]
  },
  {
   "cell_type": "markdown",
   "metadata": {},
   "source": [
    "## Data-centric AI\n",
    "\n",
    "Notes on the video of AI pioneer Andrew Ng:\"A Chat with Andrew on MLOps: From Model-centric to Data-centric AI\".\n",
    "\n",
    "<iframe width=\"560\" height=\"315\" src=\"https://www.youtube.com/embed/06-AZXmwHjo\" title=\"YouTube video player\" frameborder=\"0\" allow=\"accelerometer; autoplay; clipboard-write; encrypted-media; gyroscope; picture-in-picture\" allowfullscreen></iframe>\n",
    "\n",
    "\n",
    "- **AI-System** = Code (model/algorithm) + Data \n",
    "\n",
    "- Data is food for AI  \n",
    "![image](../../../assets/img/dataIsFood.png)     \n",
    "\n",
    "- It's very important especially for small data sets that the labels are consistencly  \n",
    "![image](../../../assets/img/smallDataAndLabelConsistency.png)  \n",
    "\n",
    "    - **Noisy Dataset**: data that contains a large amount of additional meaningless information. E.g. corrupted data...all data that cannot be understood and interpreted  by a user system.\n",
    "    \n",
    "    - **Noisy labels**: labels that were set incorrectly or inconsitently  \n",
    "\n",
    "\n",
    "- **Theory: Clean vs. noisy Data**  \n",
    "    You have 500 Examples and 12% of the examples are noisy (incorrectly or inconsitently labeld)\n",
    "\n",
    "    The following are about equally effective: \n",
    "        - Clean up the noise => 60 examples\n",
    "        - Collect annother 500 new examples (double the training set)\n",
    "    \n",
    "    With a data centric view, there is significant of room for improvment in problems <10.000 examples\n",
    "\n",
    "```{admonition} Required questions\n",
    ":class: tip\n",
    "- **Describe the lifecycle of an ML project**\n",
    "\n",
    "____________________________\n",
    "\n",
    "- **What is the difference between a model-centric vs data-centric view**  \n",
    "  \n",
    "    **Model-centric view**  \n",
    "    Collect what data you can, and develop a model good enough to deal with the noise in the data.  \n",
    "\n",
    "    Hold the data fixed and iteratively improve the code/model.  \n",
    "      \n",
    "    **Data-centric view**  \n",
    "    The consistency of the data is paramount. Use tools to improve the data quality; this will allow multiple models to do well.  \n",
    "\n",
    "    Hold the code fixed and iteratively improve the data..  \n",
    "____________________________\n",
    "\n",
    "- **Describe MLOps’ most important task**  \n",
    "  \n",
    "    Ensure consistently high-quality data in all phases oft he ML project lifecycle        \n",
    "    What is good Data?\n",
    "    - Defined consistently (definition of labels y is unambiguous)\n",
    "    - Cover of important cases (good coverage of inputs x)\n",
    "    - Enough data – for example enough data of speech with car noise in background\n",
    "    - Has timely feedback from production data (distribution covers data drift and concept drift)\n",
    "    - Sized appropriately\n",
    "\n",
    "```"
   ]
  },
  {
   "cell_type": "markdown",
   "metadata": {},
   "source": [
    "## Common MLOps related challenges\n",
    "\n",
    "Notes on the video of Nayur Khan, global head of technical delivery at McKinsey\n",
    "\n",
    "<iframe width=\"560\" height=\"315\" src=\"https://www.youtube.com/embed/M1F0FDJGu0Q\" title=\"YouTube video player\" frameborder=\"0\" allow=\"accelerometer; autoplay; clipboard-write; encrypted-media; gyroscope; picture-in-picture\" allowfullscreen></iframe>\n",
    "\n",
    "```{admonition} Required questions\n",
    ":class: tip\n",
    "- **Describe 4 typical challenges when creating machine learning products.**  \n",
    "    \n",
    "    What we typically find is that a couple of teams sitting in the same office or sometimes geographically separated and many problems result….  \n",
    "    \n",
    "    - *Lack of collaboration* or sharing of components/libaries betwenn the teams but even within the same team. \n",
    "    - *Inconsistency*: Different approachtes to solving same problem, or using inonsistent data or algortihms\n",
    "    - *Duplicaton*: Reinveting the wheel. Teams sitting next to each other and try to solve the same problem. \n",
    "    - *Tech Debt*: Large codebases and tech debt. You don't know how to maintain your code\n",
    "\n",
    "\n",
    "____________________________\n",
    "\n",
    "- **Reusability concerns within a codebase: Explain a common way to look at what code is doing in a typical ML project.**  \n",
    "  \n",
    "____________________________\n",
    "\n",
    "- **What kind of problems does the open-source framework Kedro solve and where does Kedro fit in the MLOps ecosystem?**  \n",
    "  \n",
    "    Kedro solved to problem of maintability.   \n",
    "\n",
    "    Kedro is not for the deployment. Kedro focuses on how you work while writing standardized, modular, maintaible and reproducible data sience code and does not focus on how you would like to run it in production. The responsibility of „What time will this pipeline run?\" and \"How will i know if it failed?\" is left to tools called orchestrators like Apache Airflow, Luigi, Dagster and Perfect. Orchestrators do not focus on the process of producing something that could be deployed, which is what Kedro does. \n",
    "\n",
    "\n",
    "```\n",
    "\n"
   ]
  },
  {
   "cell_type": "markdown",
   "metadata": {},
   "source": [
    "## Components \n",
    "\n",
    "Next, you’ll get an overview about some of the primary components of MLOps. “An introduction to MLOps on Google Cloud” by Nate Keating:\n",
    "\n",
    "<iframe width=\"560\" height=\"315\" src=\"https://www.youtube.com/embed/6gdrwFMaEZ0\" title=\"YouTube video player\" frameborder=\"0\" allow=\"accelerometer; autoplay; clipboard-write; encrypted-media; gyroscope; picture-in-picture\" allowfullscreen></iframe>\n",
    "\n",
    "```{admonition} Required questions\n",
    ":class: tip\n",
    "- **Describe the challenges of current ML systems (where are teams today)?**  \n",
    "    \n",
    "____________________________\n",
    "\n",
    "- **What are the components of the ML solution lifecycle?**  \n",
    "  \n",
    "____________________________\n",
    "\n",
    "- **Explain the steps in an automated E2E pipeline.**  \n",
    "\n",
    "\n",
    "```"
   ]
  }
 ],
 "metadata": {
  "interpreter": {
   "hash": "4df74ba5e0d69459924f467b14f6fc64d1b1e193f20aaeb843df8160b10d7ed6"
  },
  "kernelspec": {
   "display_name": "Python 3.9.7 64-bit (windows store)",
   "name": "python3"
  },
  "language_info": {
   "name": "python",
   "version": ""
  },
  "widgets": {
   "application/vnd.jupyter.widget-state+json": {
    "state": {},
    "version_major": 2,
    "version_minor": 0
   }
  }
 },
 "nbformat": 4,
 "nbformat_minor": 4
}
