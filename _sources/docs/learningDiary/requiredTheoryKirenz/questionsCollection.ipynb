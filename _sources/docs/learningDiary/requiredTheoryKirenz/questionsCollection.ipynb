{
 "cells": [
  {
   "cell_type": "markdown",
   "id": "d5d01f4c",
   "metadata": {},
   "source": [
    "# Notes: Questions for lecture on 17.11\n",
    "\n",
    "## Data-centric AI\n",
    "\n",
    "- 12% of 500 Examples are noisy. How can we identify these 12%? Are there any frameworks or tools etc.?\n",
    "  - Tesnorflow extended - preprocessing ermöglicht genaut das. Hierbei kann man außreiser anzeigen. Bibliothek mit dieser man außreiser anzeigen kann \n",
    "  - Pandas oder Ceborn wäre auch möglich - ganz klassisch mit boxplots oder so arbeiten\n",
    "  - wenn man systematisch rangehen möchte: Tensorflow hat hierfür eine bib die example validator statistics gen kann man hierfür auch verwenden\n",
    "  - wie viele außreiser gibt es standardwerte und so...typische daten exploration \n",
    "\n",
    "## Common MLOps realted challenges\n",
    "\n",
    "- Kedro - Wo fängt Kedro an und wo hört es auf? Verstehen den Zusammenhand noch nicht ganz \n",
    "  \n",
    "  - \n",
    "\n",
    "## Frameworks\n",
    "\n",
    "- Warum veruscht man MLOps so stark von DEVops abzugrenzen, wenn man sich doch an den Grundsätzen daran orintiert? \n",
    "\n",
    "in devops projekten hat man nicht die problematik mit daten. Datensichtugn, Datensammlung, Datenveredelung spielt bei devops kein Thema. Aber gerade das ist der Schwerpunkt von MLOPs. Weil Daten so wichtig sind ist das der zentrale Unterschied bei DEVops. Datensammlung, Datensicherung usw. spielt hier die zentrale Rolle und nimmt auch einen großen Raum im Prozess ein."
   ]
  },
  {
   "cell_type": "markdown",
   "id": "2e0324b8",
   "metadata": {},
   "source": [
    "# asdijasdon\n",
    "\n",
    "## njasnjnd"
   ]
  }
 ],
 "metadata": {
  "jupytext": {
   "text_representation": {
    "extension": ".md",
    "format_name": "myst",
    "format_version": 0.13,
    "jupytext_version": "1.11.5"
   }
  },
  "kernelspec": {
   "display_name": "Python 3.9.7 64-bit (windows store)",
   "name": "python3"
  },
  "language_info": {
   "codemirror_mode": {
    "name": "ipython",
    "version": 3
   },
   "file_extension": ".py",
   "mimetype": "text/x-python",
   "name": "python",
   "nbconvert_exporter": "python",
   "pygments_lexer": "ipython3",
   "version": "3.7.12"
  },
  "source_map": [
   11,
   35
  ]
 },
 "nbformat": 4,
 "nbformat_minor": 5
}