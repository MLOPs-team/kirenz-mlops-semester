{
 "cells": [
  {
   "cell_type": "markdown",
   "metadata": {},
   "source": [
    "# Notes: Questions for lecture on 17.11\n",
    "\n",
    "## Data-centric AI\n",
    "- 12% of 500 Examples are noisy. How can we identify these 12%? Are there any frameworks or tools etc.?\n",
    "\n",
    "## Common MLOps realted challenges\n",
    "- Kedro - Wo fängt Kedro an und wo hört es auf? Verstehen den Zusammenhand noch nicht ganz \n",
    "\n",
    "## Frameworks\n",
    "- Warum veruscht man MLOps so stark von DEVops abzugrenzen, wenn man sich doch an den Grundsätzen daran orintiert? "
   ]
  }
 ],
 "metadata": {
  "interpreter": {
   "hash": "4df74ba5e0d69459924f467b14f6fc64d1b1e193f20aaeb843df8160b10d7ed6"
  },
  "kernelspec": {
   "display_name": "Python 3.9.7 64-bit (windows store)",
   "name": "python3"
  },
  "language_info": {
   "name": "python",
   "version": ""
  },
  "widgets": {
   "application/vnd.jupyter.widget-state+json": {
    "state": {},
    "version_major": 2,
    "version_minor": 0
   }
  }
 },
 "nbformat": 4,
 "nbformat_minor": 4
}
